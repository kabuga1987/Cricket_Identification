{
 "cells": [
  {
   "cell_type": "code",
   "execution_count": 8,
   "id": "e733cb80",
   "metadata": {},
   "outputs": [],
   "source": [
    "import numpy as np\n",
    "import pandas as pd\n",
    "import os\n",
    "from lap import lapjv\n",
    "from tqdm import tqdm"
   ]
  },
  {
   "cell_type": "code",
   "execution_count": null,
   "id": "9fbb662c",
   "metadata": {},
   "outputs": [],
   "source": []
  },
  {
   "cell_type": "code",
   "execution_count": null,
   "id": "48fd5134",
   "metadata": {},
   "outputs": [],
   "source": [
    "class Train_validation_test_split:\n",
    "    \n",
    "    def __init__(self, path):\n",
    "        self.path = path\n",
    "        #self.night = night\n",
    "        \n",
    "    def Csv_data(self):\n",
    "        \"\"\"read the csv file as a data frame\"\"\"\n",
    "        df = pd.read_csv(self.path)\n",
    "        #df = df[df.Night==self.night]\n",
    "        return df\n",
    "        \n",
    "    def Image_2_ID(self, df):\n",
    "        \"\"\"From the data frame select the chirp and ID cols and map each chirp to its ID\"\"\"\n",
    "        df = df[[\"Segment\",\"ID\"]]\n",
    "        return dict([(img,ID) for img, ID in df.to_records(index = False)])\n",
    "    \n",
    "    def ID_2_elements(self, elt_2_ID_dict):\n",
    "        \"\"\"Grouping segments by IDs\"\"\"\n",
    "        ID_2_elts = {}\n",
    "        for elt,ID in elt_2_ID_dict.items():\n",
    "            if ID not in ID_2_elts:ID_2_elts[ID]= [elt]\n",
    "            else:ID_2_elts[ID].append(elt)  \n",
    "        return ID_2_elts\n",
    "    \n",
    "    def Image_2_call(self, df):\n",
    "        \"\"\"Grouping chirps per call\"\"\"\n",
    "        df = df[[\"Segment\",\"Call\"]]\n",
    "        return dict([(img,call) for img, call in df.to_records(index = False)])\n",
    "    \n",
    "    def Execution(self):\n",
    "        \n",
    "        \"\"\"Arrange imgs per night and per ID, and for each ID and then rearrange imgs per call.\n",
    "        For each call, put 60% of the imgs in training, 20% in validation, and 20 in test set.\"\"\"\n",
    "        \n",
    "        trn, val, tst = [], [], []\n",
    "        df = self.Csv_data()\n",
    "        # select segs collected on the 1st night\n",
    "        df = df[df.Night == 2]\n",
    "        Img_2_cal = self.Image_2_call(df)\n",
    "        \n",
    "        # arrange images per ID\n",
    "        \n",
    "        Im2ID = self.Image_2_ID(df)\n",
    "        ID2Ims = self.ID_2_elements(Im2ID)\n",
    "         \n",
    "        # arrange images of each ID per call\n",
    "\n",
    "        for lstIms in list(ID2Ims.values()):\n",
    "            Im2call = {img: Img_2_cal[img] for img in lstIms}\n",
    "            call2Ims = self.ID_2_elements(Im2call)\n",
    "            lst_cal_Ims = list(call2Ims.values())\n",
    "\n",
    "            # put 60, 20, and 20% resp. in trn, val, and test set\n",
    "\n",
    "            for lst in lst_cal_Ims:\n",
    "                lst = sorted(lst)\n",
    "                idx = np.arange(len(lst))\n",
    "                # randomly shuffle 1_s_segments from each call\n",
    "                np.random.shuffle(idx)\n",
    "                lst = list(np.array(lst)[idx])\n",
    "                p_60 = int(len(lst)*6/10)\n",
    "                p_80 = int(len(lst)*8/10)\n",
    "                trn += lst[:p_60]\n",
    "                val += lst[p_60:p_80]\n",
    "                tst += lst[p_80:]\n",
    "\n",
    "        return trn, val, tst\n"
   ]
  },
  {
   "cell_type": "code",
   "execution_count": null,
   "id": "d4654791",
   "metadata": {},
   "outputs": [],
   "source": [
    "tvt = Train_validation_test_split(path)"
   ]
  },
  {
   "cell_type": "code",
   "execution_count": null,
   "id": "df3cc155",
   "metadata": {},
   "outputs": [],
   "source": [
    "Ts, Vs, Tes = tvt.Execution()"
   ]
  },
  {
   "cell_type": "code",
   "execution_count": null,
   "id": "d714b282",
   "metadata": {},
   "outputs": [],
   "source": [
    "# all data\n",
    "df = pd.read_csv(\"segment_2_characts.cvs\")"
   ]
  },
  {
   "cell_type": "code",
   "execution_count": null,
   "id": "bd855560",
   "metadata": {},
   "outputs": [],
   "source": [
    "#df"
   ]
  },
  {
   "cell_type": "code",
   "execution_count": null,
   "id": "fcf72753",
   "metadata": {},
   "outputs": [],
   "source": [
    "# keep selected data\n",
    "Ts_df = df[df.Segment.isin(Ts)]"
   ]
  },
  {
   "cell_type": "code",
   "execution_count": null,
   "id": "a3cabfe6",
   "metadata": {},
   "outputs": [],
   "source": [
    "Ts_df"
   ]
  },
  {
   "cell_type": "code",
   "execution_count": null,
   "id": "8c974452",
   "metadata": {},
   "outputs": [],
   "source": [
    "Ts_df.to_csv(\"all_tr_val_tst/n2_train.csv\", index = False)"
   ]
  },
  {
   "cell_type": "code",
   "execution_count": null,
   "id": "fe469f43",
   "metadata": {},
   "outputs": [],
   "source": []
  },
  {
   "cell_type": "code",
   "execution_count": null,
   "id": "a7ee0723",
   "metadata": {},
   "outputs": [],
   "source": [
    "path = \"segment_2_characts.cvs\""
   ]
  },
  {
   "cell_type": "code",
   "execution_count": null,
   "id": "67a5a491",
   "metadata": {},
   "outputs": [],
   "source": [
    "n = pd.read_csv(path)"
   ]
  },
  {
   "cell_type": "code",
   "execution_count": null,
   "id": "338461ce",
   "metadata": {},
   "outputs": [],
   "source": [
    "dn = n[n.Night==3]"
   ]
  },
  {
   "cell_type": "code",
   "execution_count": null,
   "id": "fd7f8880",
   "metadata": {},
   "outputs": [],
   "source": [
    "dn.to_csv(\"all_tr_val_tst/n3_test.csv\", index = False)"
   ]
  },
  {
   "cell_type": "code",
   "execution_count": null,
   "id": "b7a51d1c",
   "metadata": {},
   "outputs": [],
   "source": [
    "ls all_tr_val_tst/"
   ]
  },
  {
   "cell_type": "code",
   "execution_count": null,
   "id": "f223cbee",
   "metadata": {},
   "outputs": [],
   "source": [
    "pk = \"all_tr_val_tst/n1_validation.csv\"\n",
    "pe = \"all_tr_val_tst/n2_validation.csv\""
   ]
  },
  {
   "cell_type": "code",
   "execution_count": null,
   "id": "044c6774",
   "metadata": {},
   "outputs": [],
   "source": [
    "dk = pd.read_csv(pk)\n",
    "de = pd.read_csv(pe)"
   ]
  },
  {
   "cell_type": "code",
   "execution_count": null,
   "id": "f63f4b6e",
   "metadata": {},
   "outputs": [],
   "source": []
  },
  {
   "cell_type": "code",
   "execution_count": null,
   "id": "eb9dddba",
   "metadata": {},
   "outputs": [],
   "source": [
    "ek = pd.concat([dk,de])"
   ]
  },
  {
   "cell_type": "code",
   "execution_count": null,
   "id": "35fdd472",
   "metadata": {},
   "outputs": [],
   "source": []
  },
  {
   "cell_type": "code",
   "execution_count": null,
   "id": "54148c4c",
   "metadata": {},
   "outputs": [],
   "source": [
    "#ek.to_csv(\"all_tr_val_tst/n1_n2_validation.csv\", index = False)"
   ]
  },
  {
   "cell_type": "code",
   "execution_count": null,
   "id": "a5fa413c",
   "metadata": {},
   "outputs": [],
   "source": [
    "ls all_tr_val_tst/"
   ]
  },
  {
   "cell_type": "code",
   "execution_count": null,
   "id": "f3ff1d29",
   "metadata": {},
   "outputs": [],
   "source": []
  },
  {
   "cell_type": "code",
   "execution_count": null,
   "id": "ba0a6348",
   "metadata": {},
   "outputs": [],
   "source": [
    "path = \"all_tr_val_tst/n1_n2_validation.csv\""
   ]
  },
  {
   "cell_type": "code",
   "execution_count": null,
   "id": "f576b64c",
   "metadata": {},
   "outputs": [],
   "source": []
  },
  {
   "cell_type": "code",
   "execution_count": null,
   "id": "8fdac03a",
   "metadata": {},
   "outputs": [],
   "source": [
    "import random"
   ]
  },
  {
   "cell_type": "code",
   "execution_count": null,
   "id": "dcc2b71f",
   "metadata": {},
   "outputs": [],
   "source": [
    "class Nonmatches:\n",
    "\n",
    "    def __init__(self, path):\n",
    "        self.path = path\n",
    "        \n",
    "    def read_csv_data(self):\n",
    "        df = pd.read_csv(self.path)\n",
    "        segments = df.Segment.values\n",
    "        IDs = df.ID.values\n",
    "        return segments, IDs\n",
    "    \n",
    "    def sampling(self):\n",
    "        \n",
    "        samples, IDs = self.read_csv_data()\n",
    "        \n",
    "        x1, x2 = np.triu_indices(IDs.shape[0],1)\n",
    "        IDL, IDR = IDs[x1], IDs[x2]\n",
    "        c = np.where(IDL == IDR)[0]\n",
    "        xx1, xx2 = x1[c], x2[c]\n",
    "        score = np.random.random_sample(size = (IDs.shape[0], IDs.shape[0]))\n",
    "        score[xx1,xx2] = 1e5,\n",
    "        score[xx2,xx1] = 1e5\n",
    "        x = lapjv(score)[-1]\n",
    "        y = np.arange(x.shape[0])\n",
    "        LY = IDs[x]\n",
    "        RY = IDs[y]\n",
    "        d = np.where(LY==RY)[0]\n",
    "        print(\"Number of matches = \", len(d))\n",
    "        return samples[x], samples[y], LY, RY,\n",
    "\n",
    "    \n",
    "    \n",
    "    "
   ]
  },
  {
   "cell_type": "code",
   "execution_count": null,
   "id": "cdd695ab",
   "metadata": {},
   "outputs": [],
   "source": [
    "n = Nonmatches(path)"
   ]
  },
  {
   "cell_type": "code",
   "execution_count": null,
   "id": "15562e52",
   "metadata": {},
   "outputs": [],
   "source": [
    "s1,s2,ID1,ID2 = n.sampling()"
   ]
  },
  {
   "cell_type": "code",
   "execution_count": null,
   "id": "fbd2f38b",
   "metadata": {},
   "outputs": [],
   "source": []
  },
  {
   "cell_type": "code",
   "execution_count": null,
   "id": "3b3813a4",
   "metadata": {},
   "outputs": [],
   "source": [
    "dic = {\"sample_1\": s1, \"sample_2\": s2, \"ID_sample_1\":ID1, \"ID_sample_2\":ID2}"
   ]
  },
  {
   "cell_type": "code",
   "execution_count": null,
   "id": "8c8f498b",
   "metadata": {},
   "outputs": [],
   "source": [
    "df = pd.DataFrame(dic)"
   ]
  },
  {
   "cell_type": "code",
   "execution_count": null,
   "id": "3ba2adef",
   "metadata": {},
   "outputs": [],
   "source": [
    "df"
   ]
  },
  {
   "cell_type": "code",
   "execution_count": null,
   "id": "dd755eac",
   "metadata": {},
   "outputs": [],
   "source": [
    "p1 = \"trn_val_test_pairs/\""
   ]
  },
  {
   "cell_type": "code",
   "execution_count": null,
   "id": "5c1377b0",
   "metadata": {},
   "outputs": [],
   "source": [
    "df.to_csv(p1+\"n1_n2_validation_mismatches.csv\", index = False)"
   ]
  },
  {
   "cell_type": "code",
   "execution_count": null,
   "id": "d7e1961e",
   "metadata": {},
   "outputs": [],
   "source": [
    "pd.read_csv(p1+\"n1_n2_validation_mismatches.csv\")"
   ]
  },
  {
   "cell_type": "code",
   "execution_count": null,
   "id": "c542d974",
   "metadata": {},
   "outputs": [],
   "source": []
  },
  {
   "cell_type": "code",
   "execution_count": 166,
   "id": "db708a71",
   "metadata": {},
   "outputs": [],
   "source": [
    "pa = \"all_tr_val_tst/n1_n2_validation.csv\""
   ]
  },
  {
   "cell_type": "code",
   "execution_count": 167,
   "id": "4f7a6d3c",
   "metadata": {},
   "outputs": [],
   "source": [
    "import random"
   ]
  },
  {
   "cell_type": "code",
   "execution_count": 168,
   "id": "7315532c",
   "metadata": {},
   "outputs": [],
   "source": [
    "class matches:\n",
    "    \"\"\"Create matches by randomly shuffling list's elements and pairing\n",
    "    the shuffled list with the original one in a way that two identical\n",
    "    samples do not occupy the same position\"\"\"\n",
    "\n",
    "    def __init__(self, path):\n",
    "        self.path = path\n",
    "        self.seg2id = self.read_csv_data()\n",
    "        \n",
    "    def read_csv_data(self):\n",
    "        df = pd.read_csv(self.path)\n",
    "        df = df[[\"Segment\", \"ID\"]]\n",
    "        return dict([(seg, Id) for seg, Id in df.to_records(index = False)])\n",
    "    \n",
    "    def ID_to_samples(self):\n",
    "        ID2segs = {}\n",
    "        \n",
    "        seg2ID = self.read_csv_data()\n",
    "        for seg, ID in seg2ID.items():\n",
    "            if ID not in ID2segs:\n",
    "                ID2segs[ID] = [seg]\n",
    "            else:\n",
    "                ID2segs[ID].append(seg)\n",
    "        return ID2segs\n",
    "    \n",
    "    \n",
    "    def matching(self):\n",
    "        \n",
    "        ml, mr = [], []\n",
    "        \n",
    "        ID_2_samples = self.ID_to_samples()\n",
    "        \n",
    "        for lst in ID_2_samples.values():\n",
    "            np.random.shuffle(lst)\n",
    "            # form two lists like these [1 2 3 4 5] and [5 1 2 3 4]\n",
    "            # shift one position and put the last element of list 2 at first position\n",
    "            ml += lst\n",
    "            mr += [lst[-1]]+lst[:-1]\n",
    "            \n",
    "        L, R = np.array(ml), np.array(mr)\n",
    "        assert len(np.where(L==R)[0]) == 0\n",
    "        \n",
    "        return L, R \n",
    "            \n",
    "    \n",
    "    def samples2IDs(self):\n",
    "        L, R = self.matching()\n",
    "        L2ID = [(samp,self.seg2id[samp]) for samp in L]\n",
    "        R2ID = [(samp,self.seg2id[samp]) for samp in R]\n",
    "        seg_L, ID_L = zip(*L2ID)\n",
    "        seg_R, ID_R = zip(*R2ID)\n",
    "        return seg_L, seg_R, ID_L, ID_R, np.ones(len(L),)\n",
    "                    \n",
    "            \n",
    "        \n",
    "        "
   ]
  },
  {
   "cell_type": "code",
   "execution_count": null,
   "id": "a7c18cae",
   "metadata": {},
   "outputs": [],
   "source": []
  },
  {
   "cell_type": "code",
   "execution_count": 169,
   "id": "0928924f",
   "metadata": {},
   "outputs": [],
   "source": [
    "m = matches(pa)"
   ]
  },
  {
   "cell_type": "code",
   "execution_count": 170,
   "id": "b29d04e8",
   "metadata": {},
   "outputs": [],
   "source": [
    "a,b,c,d,e = m.samples2IDs()"
   ]
  },
  {
   "cell_type": "code",
   "execution_count": null,
   "id": "dcb6ab3f",
   "metadata": {},
   "outputs": [],
   "source": []
  },
  {
   "cell_type": "code",
   "execution_count": 171,
   "id": "0ae6bfd7",
   "metadata": {},
   "outputs": [],
   "source": [
    "D = {\"sample_1\": a, \"sample_2\": b, \"ID_sample_1\":c, \"ID_sample_2\":d, \"label\":e}"
   ]
  },
  {
   "cell_type": "code",
   "execution_count": 172,
   "id": "83356640",
   "metadata": {},
   "outputs": [],
   "source": [
    "E = pd.DataFrame(D)"
   ]
  },
  {
   "cell_type": "code",
   "execution_count": 173,
   "id": "117b65b1",
   "metadata": {},
   "outputs": [
    {
     "data": {
      "text/html": [
       "<div>\n",
       "<style scoped>\n",
       "    .dataframe tbody tr th:only-of-type {\n",
       "        vertical-align: middle;\n",
       "    }\n",
       "\n",
       "    .dataframe tbody tr th {\n",
       "        vertical-align: top;\n",
       "    }\n",
       "\n",
       "    .dataframe thead th {\n",
       "        text-align: right;\n",
       "    }\n",
       "</style>\n",
       "<table border=\"1\" class=\"dataframe\">\n",
       "  <thead>\n",
       "    <tr style=\"text-align: right;\">\n",
       "      <th></th>\n",
       "      <th>sample_1</th>\n",
       "      <th>sample_2</th>\n",
       "      <th>ID_sample_1</th>\n",
       "      <th>ID_sample_2</th>\n",
       "      <th>label</th>\n",
       "    </tr>\n",
       "  </thead>\n",
       "  <tbody>\n",
       "    <tr>\n",
       "      <th>0</th>\n",
       "      <td>LAB23_132</td>\n",
       "      <td>LAB23_50</td>\n",
       "      <td>LAB</td>\n",
       "      <td>LAB</td>\n",
       "      <td>1.0</td>\n",
       "    </tr>\n",
       "    <tr>\n",
       "      <th>1</th>\n",
       "      <td>LAB23_135</td>\n",
       "      <td>LAB23_132</td>\n",
       "      <td>LAB</td>\n",
       "      <td>LAB</td>\n",
       "      <td>1.0</td>\n",
       "    </tr>\n",
       "    <tr>\n",
       "      <th>2</th>\n",
       "      <td>LAB21_135</td>\n",
       "      <td>LAB23_135</td>\n",
       "      <td>LAB</td>\n",
       "      <td>LAB</td>\n",
       "      <td>1.0</td>\n",
       "    </tr>\n",
       "    <tr>\n",
       "      <th>3</th>\n",
       "      <td>LAB21_89</td>\n",
       "      <td>LAB21_135</td>\n",
       "      <td>LAB</td>\n",
       "      <td>LAB</td>\n",
       "      <td>1.0</td>\n",
       "    </tr>\n",
       "    <tr>\n",
       "      <th>4</th>\n",
       "      <td>LAB23_164</td>\n",
       "      <td>LAB21_89</td>\n",
       "      <td>LAB</td>\n",
       "      <td>LAB</td>\n",
       "      <td>1.0</td>\n",
       "    </tr>\n",
       "    <tr>\n",
       "      <th>...</th>\n",
       "      <td>...</td>\n",
       "      <td>...</td>\n",
       "      <td>...</td>\n",
       "      <td>...</td>\n",
       "      <td>...</td>\n",
       "    </tr>\n",
       "    <tr>\n",
       "      <th>8763</th>\n",
       "      <td>BLL11_366</td>\n",
       "      <td>BLL21_85</td>\n",
       "      <td>BLL</td>\n",
       "      <td>BLL</td>\n",
       "      <td>1.0</td>\n",
       "    </tr>\n",
       "    <tr>\n",
       "      <th>8764</th>\n",
       "      <td>BLL21_88</td>\n",
       "      <td>BLL11_366</td>\n",
       "      <td>BLL</td>\n",
       "      <td>BLL</td>\n",
       "      <td>1.0</td>\n",
       "    </tr>\n",
       "    <tr>\n",
       "      <th>8765</th>\n",
       "      <td>BLL21_170</td>\n",
       "      <td>BLL21_88</td>\n",
       "      <td>BLL</td>\n",
       "      <td>BLL</td>\n",
       "      <td>1.0</td>\n",
       "    </tr>\n",
       "    <tr>\n",
       "      <th>8766</th>\n",
       "      <td>BLL11_229</td>\n",
       "      <td>BLL21_170</td>\n",
       "      <td>BLL</td>\n",
       "      <td>BLL</td>\n",
       "      <td>1.0</td>\n",
       "    </tr>\n",
       "    <tr>\n",
       "      <th>8767</th>\n",
       "      <td>BLL21_132</td>\n",
       "      <td>BLL11_229</td>\n",
       "      <td>BLL</td>\n",
       "      <td>BLL</td>\n",
       "      <td>1.0</td>\n",
       "    </tr>\n",
       "  </tbody>\n",
       "</table>\n",
       "<p>8768 rows × 5 columns</p>\n",
       "</div>"
      ],
      "text/plain": [
       "       sample_1   sample_2 ID_sample_1 ID_sample_2  label\n",
       "0     LAB23_132   LAB23_50         LAB         LAB    1.0\n",
       "1     LAB23_135  LAB23_132         LAB         LAB    1.0\n",
       "2     LAB21_135  LAB23_135         LAB         LAB    1.0\n",
       "3      LAB21_89  LAB21_135         LAB         LAB    1.0\n",
       "4     LAB23_164   LAB21_89         LAB         LAB    1.0\n",
       "...         ...        ...         ...         ...    ...\n",
       "8763  BLL11_366   BLL21_85         BLL         BLL    1.0\n",
       "8764   BLL21_88  BLL11_366         BLL         BLL    1.0\n",
       "8765  BLL21_170   BLL21_88         BLL         BLL    1.0\n",
       "8766  BLL11_229  BLL21_170         BLL         BLL    1.0\n",
       "8767  BLL21_132  BLL11_229         BLL         BLL    1.0\n",
       "\n",
       "[8768 rows x 5 columns]"
      ]
     },
     "execution_count": 173,
     "metadata": {},
     "output_type": "execute_result"
    }
   ],
   "source": [
    "E"
   ]
  },
  {
   "cell_type": "code",
   "execution_count": 174,
   "id": "bdc361f6",
   "metadata": {},
   "outputs": [],
   "source": [
    "p = \"within_across_nights_pairs/n1_n2_validation_pairs.csv\""
   ]
  },
  {
   "cell_type": "code",
   "execution_count": 175,
   "id": "4aa67dc0",
   "metadata": {},
   "outputs": [
    {
     "name": "stdout",
     "output_type": "stream",
     "text": [
      "n1_n2_test_pairs.csv        n1_test_pairs.csv        n2_test_pairs.csv\r\n",
      "n1_n2_train_pairs.csv       n1_train_pairs.csv       n3_test_pairs.csv\r\n",
      "n1_n2_validation_pairs.csv  n1_validation_pairs.csv\r\n",
      "n1_n3_test_pairs.csv        n2_n3_test_pairs.csv\r\n"
     ]
    }
   ],
   "source": [
    "ls within_across_nights_pairs/"
   ]
  },
  {
   "cell_type": "code",
   "execution_count": 176,
   "id": "4d787c9d",
   "metadata": {},
   "outputs": [],
   "source": [
    "t = pd.read_csv(p)"
   ]
  },
  {
   "cell_type": "code",
   "execution_count": 177,
   "id": "2998f4a7",
   "metadata": {},
   "outputs": [],
   "source": [
    "K = t[t.label == 0]"
   ]
  },
  {
   "cell_type": "code",
   "execution_count": 178,
   "id": "73ed60a3",
   "metadata": {},
   "outputs": [
    {
     "data": {
      "text/html": [
       "<div>\n",
       "<style scoped>\n",
       "    .dataframe tbody tr th:only-of-type {\n",
       "        vertical-align: middle;\n",
       "    }\n",
       "\n",
       "    .dataframe tbody tr th {\n",
       "        vertical-align: top;\n",
       "    }\n",
       "\n",
       "    .dataframe thead th {\n",
       "        text-align: right;\n",
       "    }\n",
       "</style>\n",
       "<table border=\"1\" class=\"dataframe\">\n",
       "  <thead>\n",
       "    <tr style=\"text-align: right;\">\n",
       "      <th></th>\n",
       "      <th>sample_1</th>\n",
       "      <th>sample_2</th>\n",
       "      <th>ID_sample_1</th>\n",
       "      <th>ID_sample_2</th>\n",
       "      <th>label</th>\n",
       "    </tr>\n",
       "  </thead>\n",
       "  <tbody>\n",
       "    <tr>\n",
       "      <th>0</th>\n",
       "      <td>PKS21_119</td>\n",
       "      <td>LPL21_41</td>\n",
       "      <td>PKS</td>\n",
       "      <td>LPL</td>\n",
       "      <td>0</td>\n",
       "    </tr>\n",
       "    <tr>\n",
       "      <th>1</th>\n",
       "      <td>LAB11_329</td>\n",
       "      <td>WGB11_160</td>\n",
       "      <td>LAB</td>\n",
       "      <td>WGB</td>\n",
       "      <td>0</td>\n",
       "    </tr>\n",
       "    <tr>\n",
       "      <th>2</th>\n",
       "      <td>SPK21_258</td>\n",
       "      <td>PSP11_131</td>\n",
       "      <td>SPK</td>\n",
       "      <td>PSP</td>\n",
       "      <td>0</td>\n",
       "    </tr>\n",
       "    <tr>\n",
       "      <th>4</th>\n",
       "      <td>LLP11_251</td>\n",
       "      <td>BAS21_185</td>\n",
       "      <td>LLP</td>\n",
       "      <td>BAS</td>\n",
       "      <td>0</td>\n",
       "    </tr>\n",
       "    <tr>\n",
       "      <th>6</th>\n",
       "      <td>LPS11_378</td>\n",
       "      <td>SKL21_185</td>\n",
       "      <td>LPS</td>\n",
       "      <td>SKL</td>\n",
       "      <td>0</td>\n",
       "    </tr>\n",
       "    <tr>\n",
       "      <th>...</th>\n",
       "      <td>...</td>\n",
       "      <td>...</td>\n",
       "      <td>...</td>\n",
       "      <td>...</td>\n",
       "      <td>...</td>\n",
       "    </tr>\n",
       "    <tr>\n",
       "      <th>17530</th>\n",
       "      <td>LLB21_438</td>\n",
       "      <td>PGP11_147</td>\n",
       "      <td>LLB</td>\n",
       "      <td>PGP</td>\n",
       "      <td>0</td>\n",
       "    </tr>\n",
       "    <tr>\n",
       "      <th>17531</th>\n",
       "      <td>LKL11_105</td>\n",
       "      <td>SPK12_130</td>\n",
       "      <td>LKL</td>\n",
       "      <td>SPK</td>\n",
       "      <td>0</td>\n",
       "    </tr>\n",
       "    <tr>\n",
       "      <th>17532</th>\n",
       "      <td>KAK11_193</td>\n",
       "      <td>KBK11_222</td>\n",
       "      <td>KAK</td>\n",
       "      <td>KBK</td>\n",
       "      <td>0</td>\n",
       "    </tr>\n",
       "    <tr>\n",
       "      <th>17533</th>\n",
       "      <td>SAB12_72</td>\n",
       "      <td>BLS21_214</td>\n",
       "      <td>SAB</td>\n",
       "      <td>BLS</td>\n",
       "      <td>0</td>\n",
       "    </tr>\n",
       "    <tr>\n",
       "      <th>17534</th>\n",
       "      <td>LLB21_193</td>\n",
       "      <td>LLS11_166</td>\n",
       "      <td>LLB</td>\n",
       "      <td>LLS</td>\n",
       "      <td>0</td>\n",
       "    </tr>\n",
       "  </tbody>\n",
       "</table>\n",
       "<p>8768 rows × 5 columns</p>\n",
       "</div>"
      ],
      "text/plain": [
       "        sample_1   sample_2 ID_sample_1 ID_sample_2  label\n",
       "0      PKS21_119   LPL21_41         PKS         LPL      0\n",
       "1      LAB11_329  WGB11_160         LAB         WGB      0\n",
       "2      SPK21_258  PSP11_131         SPK         PSP      0\n",
       "4      LLP11_251  BAS21_185         LLP         BAS      0\n",
       "6      LPS11_378  SKL21_185         LPS         SKL      0\n",
       "...          ...        ...         ...         ...    ...\n",
       "17530  LLB21_438  PGP11_147         LLB         PGP      0\n",
       "17531  LKL11_105  SPK12_130         LKL         SPK      0\n",
       "17532  KAK11_193  KBK11_222         KAK         KBK      0\n",
       "17533   SAB12_72  BLS21_214         SAB         BLS      0\n",
       "17534  LLB21_193  LLS11_166         LLB         LLS      0\n",
       "\n",
       "[8768 rows x 5 columns]"
      ]
     },
     "execution_count": 178,
     "metadata": {},
     "output_type": "execute_result"
    }
   ],
   "source": [
    "K"
   ]
  },
  {
   "cell_type": "code",
   "execution_count": null,
   "id": "bcef3712",
   "metadata": {},
   "outputs": [],
   "source": []
  },
  {
   "cell_type": "code",
   "execution_count": 179,
   "id": "fd02a1be",
   "metadata": {},
   "outputs": [],
   "source": [
    "df = pd.concat([E,K])"
   ]
  },
  {
   "cell_type": "code",
   "execution_count": 180,
   "id": "3b1e367e",
   "metadata": {},
   "outputs": [
    {
     "data": {
      "text/html": [
       "<div>\n",
       "<style scoped>\n",
       "    .dataframe tbody tr th:only-of-type {\n",
       "        vertical-align: middle;\n",
       "    }\n",
       "\n",
       "    .dataframe tbody tr th {\n",
       "        vertical-align: top;\n",
       "    }\n",
       "\n",
       "    .dataframe thead th {\n",
       "        text-align: right;\n",
       "    }\n",
       "</style>\n",
       "<table border=\"1\" class=\"dataframe\">\n",
       "  <thead>\n",
       "    <tr style=\"text-align: right;\">\n",
       "      <th></th>\n",
       "      <th>sample_1</th>\n",
       "      <th>sample_2</th>\n",
       "      <th>ID_sample_1</th>\n",
       "      <th>ID_sample_2</th>\n",
       "      <th>label</th>\n",
       "    </tr>\n",
       "  </thead>\n",
       "  <tbody>\n",
       "    <tr>\n",
       "      <th>0</th>\n",
       "      <td>LAB23_132</td>\n",
       "      <td>LAB23_50</td>\n",
       "      <td>LAB</td>\n",
       "      <td>LAB</td>\n",
       "      <td>1.0</td>\n",
       "    </tr>\n",
       "    <tr>\n",
       "      <th>1</th>\n",
       "      <td>LAB23_135</td>\n",
       "      <td>LAB23_132</td>\n",
       "      <td>LAB</td>\n",
       "      <td>LAB</td>\n",
       "      <td>1.0</td>\n",
       "    </tr>\n",
       "    <tr>\n",
       "      <th>2</th>\n",
       "      <td>LAB21_135</td>\n",
       "      <td>LAB23_135</td>\n",
       "      <td>LAB</td>\n",
       "      <td>LAB</td>\n",
       "      <td>1.0</td>\n",
       "    </tr>\n",
       "    <tr>\n",
       "      <th>3</th>\n",
       "      <td>LAB21_89</td>\n",
       "      <td>LAB21_135</td>\n",
       "      <td>LAB</td>\n",
       "      <td>LAB</td>\n",
       "      <td>1.0</td>\n",
       "    </tr>\n",
       "    <tr>\n",
       "      <th>4</th>\n",
       "      <td>LAB23_164</td>\n",
       "      <td>LAB21_89</td>\n",
       "      <td>LAB</td>\n",
       "      <td>LAB</td>\n",
       "      <td>1.0</td>\n",
       "    </tr>\n",
       "    <tr>\n",
       "      <th>...</th>\n",
       "      <td>...</td>\n",
       "      <td>...</td>\n",
       "      <td>...</td>\n",
       "      <td>...</td>\n",
       "      <td>...</td>\n",
       "    </tr>\n",
       "    <tr>\n",
       "      <th>17530</th>\n",
       "      <td>LLB21_438</td>\n",
       "      <td>PGP11_147</td>\n",
       "      <td>LLB</td>\n",
       "      <td>PGP</td>\n",
       "      <td>0.0</td>\n",
       "    </tr>\n",
       "    <tr>\n",
       "      <th>17531</th>\n",
       "      <td>LKL11_105</td>\n",
       "      <td>SPK12_130</td>\n",
       "      <td>LKL</td>\n",
       "      <td>SPK</td>\n",
       "      <td>0.0</td>\n",
       "    </tr>\n",
       "    <tr>\n",
       "      <th>17532</th>\n",
       "      <td>KAK11_193</td>\n",
       "      <td>KBK11_222</td>\n",
       "      <td>KAK</td>\n",
       "      <td>KBK</td>\n",
       "      <td>0.0</td>\n",
       "    </tr>\n",
       "    <tr>\n",
       "      <th>17533</th>\n",
       "      <td>SAB12_72</td>\n",
       "      <td>BLS21_214</td>\n",
       "      <td>SAB</td>\n",
       "      <td>BLS</td>\n",
       "      <td>0.0</td>\n",
       "    </tr>\n",
       "    <tr>\n",
       "      <th>17534</th>\n",
       "      <td>LLB21_193</td>\n",
       "      <td>LLS11_166</td>\n",
       "      <td>LLB</td>\n",
       "      <td>LLS</td>\n",
       "      <td>0.0</td>\n",
       "    </tr>\n",
       "  </tbody>\n",
       "</table>\n",
       "<p>17536 rows × 5 columns</p>\n",
       "</div>"
      ],
      "text/plain": [
       "        sample_1   sample_2 ID_sample_1 ID_sample_2  label\n",
       "0      LAB23_132   LAB23_50         LAB         LAB    1.0\n",
       "1      LAB23_135  LAB23_132         LAB         LAB    1.0\n",
       "2      LAB21_135  LAB23_135         LAB         LAB    1.0\n",
       "3       LAB21_89  LAB21_135         LAB         LAB    1.0\n",
       "4      LAB23_164   LAB21_89         LAB         LAB    1.0\n",
       "...          ...        ...         ...         ...    ...\n",
       "17530  LLB21_438  PGP11_147         LLB         PGP    0.0\n",
       "17531  LKL11_105  SPK12_130         LKL         SPK    0.0\n",
       "17532  KAK11_193  KBK11_222         KAK         KBK    0.0\n",
       "17533   SAB12_72  BLS21_214         SAB         BLS    0.0\n",
       "17534  LLB21_193  LLS11_166         LLB         LLS    0.0\n",
       "\n",
       "[17536 rows x 5 columns]"
      ]
     },
     "execution_count": 180,
     "metadata": {},
     "output_type": "execute_result"
    }
   ],
   "source": [
    "df"
   ]
  },
  {
   "cell_type": "code",
   "execution_count": 181,
   "id": "ce68bc02",
   "metadata": {},
   "outputs": [],
   "source": [
    "F = df.sample(frac=1).reset_index(drop=True)"
   ]
  },
  {
   "cell_type": "code",
   "execution_count": 182,
   "id": "c9760c5f",
   "metadata": {},
   "outputs": [
    {
     "data": {
      "text/html": [
       "<div>\n",
       "<style scoped>\n",
       "    .dataframe tbody tr th:only-of-type {\n",
       "        vertical-align: middle;\n",
       "    }\n",
       "\n",
       "    .dataframe tbody tr th {\n",
       "        vertical-align: top;\n",
       "    }\n",
       "\n",
       "    .dataframe thead th {\n",
       "        text-align: right;\n",
       "    }\n",
       "</style>\n",
       "<table border=\"1\" class=\"dataframe\">\n",
       "  <thead>\n",
       "    <tr style=\"text-align: right;\">\n",
       "      <th></th>\n",
       "      <th>sample_1</th>\n",
       "      <th>sample_2</th>\n",
       "      <th>ID_sample_1</th>\n",
       "      <th>ID_sample_2</th>\n",
       "      <th>label</th>\n",
       "    </tr>\n",
       "  </thead>\n",
       "  <tbody>\n",
       "    <tr>\n",
       "      <th>0</th>\n",
       "      <td>BKB11_145</td>\n",
       "      <td>PYP21_420</td>\n",
       "      <td>BKB</td>\n",
       "      <td>PYP</td>\n",
       "      <td>0.0</td>\n",
       "    </tr>\n",
       "    <tr>\n",
       "      <th>1</th>\n",
       "      <td>BLB21_147</td>\n",
       "      <td>BLB11_382</td>\n",
       "      <td>BLB</td>\n",
       "      <td>BLB</td>\n",
       "      <td>1.0</td>\n",
       "    </tr>\n",
       "    <tr>\n",
       "      <th>2</th>\n",
       "      <td>LLK21_180</td>\n",
       "      <td>BLS11_95</td>\n",
       "      <td>LLK</td>\n",
       "      <td>BLS</td>\n",
       "      <td>0.0</td>\n",
       "    </tr>\n",
       "    <tr>\n",
       "      <th>3</th>\n",
       "      <td>APP21_175</td>\n",
       "      <td>KKA21_218</td>\n",
       "      <td>APP</td>\n",
       "      <td>KKA</td>\n",
       "      <td>0.0</td>\n",
       "    </tr>\n",
       "    <tr>\n",
       "      <th>4</th>\n",
       "      <td>PSP21_333</td>\n",
       "      <td>PSP11_81</td>\n",
       "      <td>PSP</td>\n",
       "      <td>PSP</td>\n",
       "      <td>1.0</td>\n",
       "    </tr>\n",
       "    <tr>\n",
       "      <th>...</th>\n",
       "      <td>...</td>\n",
       "      <td>...</td>\n",
       "      <td>...</td>\n",
       "      <td>...</td>\n",
       "      <td>...</td>\n",
       "    </tr>\n",
       "    <tr>\n",
       "      <th>17531</th>\n",
       "      <td>LAL21_440</td>\n",
       "      <td>LAL21_270</td>\n",
       "      <td>LAL</td>\n",
       "      <td>LAL</td>\n",
       "      <td>1.0</td>\n",
       "    </tr>\n",
       "    <tr>\n",
       "      <th>17532</th>\n",
       "      <td>PKS11_331</td>\n",
       "      <td>PKS12_148</td>\n",
       "      <td>PKS</td>\n",
       "      <td>PKS</td>\n",
       "      <td>1.0</td>\n",
       "    </tr>\n",
       "    <tr>\n",
       "      <th>17533</th>\n",
       "      <td>WLL11_415</td>\n",
       "      <td>WLL11_83</td>\n",
       "      <td>WLL</td>\n",
       "      <td>WLL</td>\n",
       "      <td>1.0</td>\n",
       "    </tr>\n",
       "    <tr>\n",
       "      <th>17534</th>\n",
       "      <td>SKL21_48</td>\n",
       "      <td>WLL11_405</td>\n",
       "      <td>SKL</td>\n",
       "      <td>WLL</td>\n",
       "      <td>0.0</td>\n",
       "    </tr>\n",
       "    <tr>\n",
       "      <th>17535</th>\n",
       "      <td>BAS23_30</td>\n",
       "      <td>WWL21_281</td>\n",
       "      <td>BAS</td>\n",
       "      <td>WWL</td>\n",
       "      <td>0.0</td>\n",
       "    </tr>\n",
       "  </tbody>\n",
       "</table>\n",
       "<p>17536 rows × 5 columns</p>\n",
       "</div>"
      ],
      "text/plain": [
       "        sample_1   sample_2 ID_sample_1 ID_sample_2  label\n",
       "0      BKB11_145  PYP21_420         BKB         PYP    0.0\n",
       "1      BLB21_147  BLB11_382         BLB         BLB    1.0\n",
       "2      LLK21_180   BLS11_95         LLK         BLS    0.0\n",
       "3      APP21_175  KKA21_218         APP         KKA    0.0\n",
       "4      PSP21_333   PSP11_81         PSP         PSP    1.0\n",
       "...          ...        ...         ...         ...    ...\n",
       "17531  LAL21_440  LAL21_270         LAL         LAL    1.0\n",
       "17532  PKS11_331  PKS12_148         PKS         PKS    1.0\n",
       "17533  WLL11_415   WLL11_83         WLL         WLL    1.0\n",
       "17534   SKL21_48  WLL11_405         SKL         WLL    0.0\n",
       "17535   BAS23_30  WWL21_281         BAS         WWL    0.0\n",
       "\n",
       "[17536 rows x 5 columns]"
      ]
     },
     "execution_count": 182,
     "metadata": {},
     "output_type": "execute_result"
    }
   ],
   "source": [
    "F"
   ]
  },
  {
   "cell_type": "code",
   "execution_count": 183,
   "id": "187f2229",
   "metadata": {},
   "outputs": [],
   "source": [
    "F.to_csv(\"pairs/n1_n2_validation_pairs.csv\", index = False)"
   ]
  },
  {
   "cell_type": "code",
   "execution_count": 184,
   "id": "cd3c947e",
   "metadata": {},
   "outputs": [
    {
     "data": {
      "text/html": [
       "<div>\n",
       "<style scoped>\n",
       "    .dataframe tbody tr th:only-of-type {\n",
       "        vertical-align: middle;\n",
       "    }\n",
       "\n",
       "    .dataframe tbody tr th {\n",
       "        vertical-align: top;\n",
       "    }\n",
       "\n",
       "    .dataframe thead th {\n",
       "        text-align: right;\n",
       "    }\n",
       "</style>\n",
       "<table border=\"1\" class=\"dataframe\">\n",
       "  <thead>\n",
       "    <tr style=\"text-align: right;\">\n",
       "      <th></th>\n",
       "      <th>sample_1</th>\n",
       "      <th>sample_2</th>\n",
       "      <th>ID_sample_1</th>\n",
       "      <th>ID_sample_2</th>\n",
       "      <th>label</th>\n",
       "    </tr>\n",
       "  </thead>\n",
       "  <tbody>\n",
       "    <tr>\n",
       "      <th>0</th>\n",
       "      <td>PKS21_315</td>\n",
       "      <td>PKS11_92</td>\n",
       "      <td>PKS</td>\n",
       "      <td>PKS</td>\n",
       "      <td>1.0</td>\n",
       "    </tr>\n",
       "    <tr>\n",
       "      <th>1</th>\n",
       "      <td>WLL11_406</td>\n",
       "      <td>KKP13_298</td>\n",
       "      <td>WLL</td>\n",
       "      <td>KKP</td>\n",
       "      <td>0.0</td>\n",
       "    </tr>\n",
       "    <tr>\n",
       "      <th>2</th>\n",
       "      <td>BAS23_197</td>\n",
       "      <td>SAB11_261</td>\n",
       "      <td>BAS</td>\n",
       "      <td>SAB</td>\n",
       "      <td>0.0</td>\n",
       "    </tr>\n",
       "    <tr>\n",
       "      <th>3</th>\n",
       "      <td>PSS21_94</td>\n",
       "      <td>RBR13_163</td>\n",
       "      <td>PSS</td>\n",
       "      <td>RBR</td>\n",
       "      <td>0.0</td>\n",
       "    </tr>\n",
       "    <tr>\n",
       "      <th>4</th>\n",
       "      <td>SBA11_184</td>\n",
       "      <td>SBA11_70</td>\n",
       "      <td>SBA</td>\n",
       "      <td>SBA</td>\n",
       "      <td>1.0</td>\n",
       "    </tr>\n",
       "    <tr>\n",
       "      <th>...</th>\n",
       "      <td>...</td>\n",
       "      <td>...</td>\n",
       "      <td>...</td>\n",
       "      <td>...</td>\n",
       "      <td>...</td>\n",
       "    </tr>\n",
       "    <tr>\n",
       "      <th>52537</th>\n",
       "      <td>ASS21_9</td>\n",
       "      <td>ASS21_153</td>\n",
       "      <td>ASS</td>\n",
       "      <td>ASS</td>\n",
       "      <td>1.0</td>\n",
       "    </tr>\n",
       "    <tr>\n",
       "      <th>52538</th>\n",
       "      <td>SPK12_158</td>\n",
       "      <td>SPK21_111</td>\n",
       "      <td>SPK</td>\n",
       "      <td>SPK</td>\n",
       "      <td>1.0</td>\n",
       "    </tr>\n",
       "    <tr>\n",
       "      <th>52539</th>\n",
       "      <td>BAS11_64</td>\n",
       "      <td>BAS22_300</td>\n",
       "      <td>BAS</td>\n",
       "      <td>BAS</td>\n",
       "      <td>1.0</td>\n",
       "    </tr>\n",
       "    <tr>\n",
       "      <th>52540</th>\n",
       "      <td>KAA11_238</td>\n",
       "      <td>KAA11_200</td>\n",
       "      <td>KAA</td>\n",
       "      <td>KAA</td>\n",
       "      <td>1.0</td>\n",
       "    </tr>\n",
       "    <tr>\n",
       "      <th>52541</th>\n",
       "      <td>LAB21_158</td>\n",
       "      <td>LLP21_133</td>\n",
       "      <td>LAB</td>\n",
       "      <td>LLP</td>\n",
       "      <td>0.0</td>\n",
       "    </tr>\n",
       "  </tbody>\n",
       "</table>\n",
       "<p>52542 rows × 5 columns</p>\n",
       "</div>"
      ],
      "text/plain": [
       "        sample_1   sample_2 ID_sample_1 ID_sample_2  label\n",
       "0      PKS21_315   PKS11_92         PKS         PKS    1.0\n",
       "1      WLL11_406  KKP13_298         WLL         KKP    0.0\n",
       "2      BAS23_197  SAB11_261         BAS         SAB    0.0\n",
       "3       PSS21_94  RBR13_163         PSS         RBR    0.0\n",
       "4      SBA11_184   SBA11_70         SBA         SBA    1.0\n",
       "...          ...        ...         ...         ...    ...\n",
       "52537    ASS21_9  ASS21_153         ASS         ASS    1.0\n",
       "52538  SPK12_158  SPK21_111         SPK         SPK    1.0\n",
       "52539   BAS11_64  BAS22_300         BAS         BAS    1.0\n",
       "52540  KAA11_238  KAA11_200         KAA         KAA    1.0\n",
       "52541  LAB21_158  LLP21_133         LAB         LLP    0.0\n",
       "\n",
       "[52542 rows x 5 columns]"
      ]
     },
     "execution_count": 184,
     "metadata": {},
     "output_type": "execute_result"
    }
   ],
   "source": [
    "pd.read_csv(\"pairs/n1_n2_train_pairs.csv\")"
   ]
  },
  {
   "cell_type": "code",
   "execution_count": null,
   "id": "a67bd4cf",
   "metadata": {},
   "outputs": [],
   "source": []
  },
  {
   "cell_type": "code",
   "execution_count": null,
   "id": "e5974252",
   "metadata": {},
   "outputs": [],
   "source": []
  },
  {
   "cell_type": "code",
   "execution_count": null,
   "id": "f55055eb",
   "metadata": {},
   "outputs": [],
   "source": [
    "k = pd.read_csv(\"trn_val_test_pairs/n1_n2_validation_mismatches.csv\")"
   ]
  },
  {
   "cell_type": "code",
   "execution_count": null,
   "id": "536246c5",
   "metadata": {},
   "outputs": [],
   "source": [
    "dek = pd.concat([e,k])"
   ]
  },
  {
   "cell_type": "code",
   "execution_count": null,
   "id": "acd15369",
   "metadata": {},
   "outputs": [],
   "source": [
    "dek"
   ]
  },
  {
   "cell_type": "code",
   "execution_count": null,
   "id": "1a332f9c",
   "metadata": {},
   "outputs": [],
   "source": [
    "f = dek.sample(frac=1).reset_index(drop=True)"
   ]
  },
  {
   "cell_type": "code",
   "execution_count": null,
   "id": "27f821a1",
   "metadata": {},
   "outputs": [],
   "source": [
    "f"
   ]
  },
  {
   "cell_type": "code",
   "execution_count": null,
   "id": "164f8fe2",
   "metadata": {},
   "outputs": [],
   "source": [
    "ID1 = f.ID_sample_1.values\n",
    "ID2 = f.ID_sample_2.values\n",
    "Y = np.where(ID1==ID2,1,0)"
   ]
  },
  {
   "cell_type": "code",
   "execution_count": null,
   "id": "7e27900f",
   "metadata": {},
   "outputs": [],
   "source": [
    "f[\"label\"] = Y"
   ]
  },
  {
   "cell_type": "code",
   "execution_count": null,
   "id": "af6c9eea",
   "metadata": {},
   "outputs": [],
   "source": [
    "f"
   ]
  },
  {
   "cell_type": "code",
   "execution_count": null,
   "id": "ba1c9556",
   "metadata": {},
   "outputs": [],
   "source": [
    "ls within_across_nights_pairs/"
   ]
  },
  {
   "cell_type": "code",
   "execution_count": null,
   "id": "1a6a4013",
   "metadata": {},
   "outputs": [],
   "source": [
    "#f.to_csv(\"within_across_nights_pairs/n1_n2_validation_pairs.csv\", index = False)"
   ]
  },
  {
   "cell_type": "code",
   "execution_count": null,
   "id": "7efae371",
   "metadata": {},
   "outputs": [],
   "source": [
    "f = pd.read_csv(\"within_across_nights_pairs/n1_n2_validation_pairs.csv\")"
   ]
  },
  {
   "cell_type": "code",
   "execution_count": null,
   "id": "8713ff0c",
   "metadata": {},
   "outputs": [],
   "source": [
    "f"
   ]
  },
  {
   "cell_type": "code",
   "execution_count": null,
   "id": "be3d7a2b",
   "metadata": {},
   "outputs": [],
   "source": []
  },
  {
   "cell_type": "code",
   "execution_count": null,
   "id": "de3682ed",
   "metadata": {},
   "outputs": [],
   "source": [
    "class Across_nights_pairs:\n",
    "    \"\"\"create a set of across-nights balanced pairs, hal matches and mismatches.\n",
    "    Components are from different nights\"\"\"\n",
    "    \n",
    "    def __init__(self, samples_1, samples_2, IDs_1, IDs_2,number_pairs):\n",
    "        self.samples_1 = samples_1\n",
    "        self.samples_2 = samples_2\n",
    "        self.IDs_1 = IDs_1\n",
    "        self.IDs_2 = IDs_2\n",
    "        self.number_pairs = number_pairs\n",
    "        \n",
    "    def pairings(self, lst1,lst2):\n",
    "        \"\"\"Generate all possible pairings from two lists of samples\"\"\"\n",
    "        x1, x2 = zip(*[(i,j) for i in lst1 for j in lst2 ])\n",
    "        return np.array(x1), np.array(x2)\n",
    "\n",
    "    \n",
    "    def sample2ID(self, samples, IDs):\n",
    "        \"\"\"map each sample to its ID\"\"\"\n",
    "        return {samples[i]:IDs[i] for i in range(len(IDs))}\n",
    "    \n",
    "    def assignID(self, sam2ID, lst):\n",
    "        \"\"\"Assign IDs to a list of samples given given dict mapping each sample to its ID\"\"\"\n",
    "        return np.array([sam2ID[sample] for sample in lst])\n",
    "    \n",
    "    \n",
    "    def pairs(self, sampL, sampR, L, R, n):\n",
    "        \"\"\"Given two lists: sampL and sampR and their IDs: L, and R,\n",
    "        sample n matches and n mismatches\"\"\"\n",
    "        pos = np.where(L==R)[0]\n",
    "        idx1 = np.arange(pos.shape[0])\n",
    "        np.random.shuffle(idx1)\n",
    "        po = pos[idx1][:n]\n",
    "        y_p = np.ones(po.shape[0],)\n",
    "        \n",
    "        neg = np.where(L!=R)[0]\n",
    "        idx2 = np.arange(neg.shape[0])\n",
    "        np.random.shuffle(idx2)\n",
    "        ne = neg[idx2][:n] \n",
    "        y_n = np.zeros(ne.shape[0],)\n",
    "        \n",
    "        csegs = np.hstack([po, neg])\n",
    "        cys = np.hstack([y_p, y_n])\n",
    "        \n",
    "        idx3 = np.arange(cys.shape[0])\n",
    "        np.random.shuffle(idx3)\n",
    "        new_idx = csegs[idx3]\n",
    "        \n",
    "        return sampL[new_idx], sampR[new_idx], L[new_idx], R[new_idx], cys[idx3]\n",
    "    \n",
    "    def Execution(self):\n",
    "        l1, l2 = self.pairings(self.samples_1, self.samples_2)\n",
    "        sam1_2_IDs = self.sample2ID(self.samples_1, self.IDs_1)\n",
    "        sam2_2_IDs = self.sample2ID(self.samples_2, self.IDs_2)\n",
    "        l1_IDs = self.assignID(sam1_2_IDs, l1)\n",
    "        l2_IDs = self.assignID(sam2_2_IDs, l2)\n",
    "        L, R, IDL, IDR, Y = self.pairs(l1, l2, l1_IDs, l2_IDs, self.number_pairs)\n",
    "        return L, R, IDL, IDR, Y\n",
    "        "
   ]
  },
  {
   "cell_type": "code",
   "execution_count": null,
   "id": "eaaa0a14",
   "metadata": {},
   "outputs": [],
   "source": [
    "p1 = \"all_tr_val_tst/n2_test.csv\"\n",
    "p2 = \"all_tr_val_tst/n3_test.csv\""
   ]
  },
  {
   "cell_type": "code",
   "execution_count": null,
   "id": "30c768a8",
   "metadata": {},
   "outputs": [],
   "source": [
    "df1 = pd.read_csv(p1)\n",
    "df2 = pd.read_csv(p2)"
   ]
  },
  {
   "cell_type": "code",
   "execution_count": null,
   "id": "f0857485",
   "metadata": {},
   "outputs": [],
   "source": []
  },
  {
   "cell_type": "code",
   "execution_count": null,
   "id": "29dd59a4",
   "metadata": {},
   "outputs": [],
   "source": [
    "sam1 = df1.Segment.values\n",
    "sam2 = df2.Segment.values\n",
    "ID1 = df1.ID.values\n",
    "ID2 = df2.ID.values\n",
    "n = 5000 "
   ]
  },
  {
   "cell_type": "code",
   "execution_count": null,
   "id": "75e6b369",
   "metadata": {},
   "outputs": [],
   "source": [
    "pairs = Across_nights_pairs(sam1,sam2,ID1,ID2,n)"
   ]
  },
  {
   "cell_type": "code",
   "execution_count": null,
   "id": "8d8456b4",
   "metadata": {},
   "outputs": [],
   "source": [
    "samL, samR, IDs_L, IDs_R, Y = pairs.Execution()"
   ]
  },
  {
   "cell_type": "code",
   "execution_count": null,
   "id": "81ce1146",
   "metadata": {},
   "outputs": [],
   "source": []
  },
  {
   "cell_type": "code",
   "execution_count": null,
   "id": "85f3382c",
   "metadata": {},
   "outputs": [],
   "source": [
    "D = {\"sample_1\": samL, \"sample_2\": samR, \"ID_sample_1\":IDs_L, \"ID_sample_2\":IDs_R, \"label\":Y}"
   ]
  },
  {
   "cell_type": "code",
   "execution_count": null,
   "id": "07677ab1",
   "metadata": {},
   "outputs": [],
   "source": [
    "s = pd.DataFrame(D)"
   ]
  },
  {
   "cell_type": "code",
   "execution_count": null,
   "id": "c3a37d36",
   "metadata": {},
   "outputs": [],
   "source": [
    "s"
   ]
  },
  {
   "cell_type": "code",
   "execution_count": null,
   "id": "99445a59",
   "metadata": {},
   "outputs": [],
   "source": [
    "#s.to_csv(\"within_night/n2_n3_test_pairs.csv\", index = False)"
   ]
  },
  {
   "cell_type": "code",
   "execution_count": null,
   "id": "b50e493c",
   "metadata": {},
   "outputs": [],
   "source": [
    "ls within_across_nights_pairs/"
   ]
  },
  {
   "cell_type": "code",
   "execution_count": null,
   "id": "32ead527",
   "metadata": {},
   "outputs": [],
   "source": [
    "df = pd.read_csv(\"within_across_nights_pairs/n1_test_pairs.csv\")"
   ]
  },
  {
   "cell_type": "code",
   "execution_count": null,
   "id": "735c95f8",
   "metadata": {},
   "outputs": [],
   "source": [
    "df"
   ]
  },
  {
   "cell_type": "code",
   "execution_count": null,
   "id": "e1c913f1",
   "metadata": {},
   "outputs": [],
   "source": [
    "sample_1 = df.sample_1.values\n",
    "sample_2 = df.sample_2.values"
   ]
  },
  {
   "cell_type": "code",
   "execution_count": null,
   "id": "e3f4a3f8",
   "metadata": {},
   "outputs": [],
   "source": [
    "idx = np.where(sample_1==sample_2)[0]"
   ]
  },
  {
   "cell_type": "code",
   "execution_count": null,
   "id": "c4aed37a",
   "metadata": {},
   "outputs": [],
   "source": [
    "a = sample_1[idx]\n",
    "b = sample_2[idx]"
   ]
  },
  {
   "cell_type": "code",
   "execution_count": null,
   "id": "0abe776b",
   "metadata": {},
   "outputs": [],
   "source": []
  },
  {
   "cell_type": "code",
   "execution_count": null,
   "id": "c6fbb714",
   "metadata": {},
   "outputs": [],
   "source": [
    "lst = np.arange(10)"
   ]
  },
  {
   "cell_type": "code",
   "execution_count": null,
   "id": "a43c6157",
   "metadata": {},
   "outputs": [],
   "source": [
    "np.random.shuffle(lst)"
   ]
  },
  {
   "cell_type": "code",
   "execution_count": null,
   "id": "f66551e7",
   "metadata": {},
   "outputs": [],
   "source": [
    "lst"
   ]
  },
  {
   "cell_type": "code",
   "execution_count": 2,
   "id": "4c84e2cc",
   "metadata": {},
   "outputs": [],
   "source": [
    "path = \"within_across_nights_pairs/\""
   ]
  },
  {
   "cell_type": "code",
   "execution_count": 4,
   "id": "c95581d5",
   "metadata": {},
   "outputs": [],
   "source": [
    "df = pd.read_csv(path+\"n1_n2_test_pairs.csv\")"
   ]
  },
  {
   "cell_type": "code",
   "execution_count": null,
   "id": "fd7ac095",
   "metadata": {},
   "outputs": [],
   "source": []
  }
 ],
 "metadata": {
  "kernelspec": {
   "display_name": "Python 3 (ipykernel)",
   "language": "python",
   "name": "python3"
  },
  "language_info": {
   "codemirror_mode": {
    "name": "ipython",
    "version": 3
   },
   "file_extension": ".py",
   "mimetype": "text/x-python",
   "name": "python",
   "nbconvert_exporter": "python",
   "pygments_lexer": "ipython3",
   "version": "3.9.4"
  }
 },
 "nbformat": 4,
 "nbformat_minor": 5
}
