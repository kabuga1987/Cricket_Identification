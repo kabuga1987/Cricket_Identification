{
 "cells": [
  {
   "cell_type": "code",
   "execution_count": 3,
   "id": "e733cb80",
   "metadata": {},
   "outputs": [],
   "source": [
    "import numpy as np\n",
    "import pandas as pd\n",
    "import os"
   ]
  },
  {
   "cell_type": "code",
   "execution_count": null,
   "id": "9fbb662c",
   "metadata": {},
   "outputs": [],
   "source": []
  },
  {
   "cell_type": "code",
   "execution_count": 4,
   "id": "48fd5134",
   "metadata": {},
   "outputs": [],
   "source": [
    "class Train_validation_test_split:\n",
    "    \n",
    "    def __init__(self, path_seg_data, path_trn_val_tst_data):\n",
    "        \n",
    "        self.path_seg_data = path_seg_data # path to the orginal segment data\n",
    "        self.path_trn_val_tst_data = path_trn_val_tst_data # path to save trn, val, tst divided segment data\n",
    "        self.df = self.Csv_data()\n",
    "        \n",
    "    def Csv_data(self):\n",
    "        \"\"\"read the csv file as a data frame\"\"\"\n",
    "        df = pd.read_csv(self.path_seg_data)\n",
    "        #df = df[df.Night==self.night]\n",
    "        return df\n",
    "        \n",
    "    def Image_2_ID(self, df):\n",
    "        \"\"\"From the data frame select the chirp and ID cols and map each chirp to its ID\"\"\"\n",
    "        df = df[[\"Segment\",\"ID\"]]\n",
    "        return dict([(img,ID) for img, ID in df.to_records(index = False)])\n",
    "    \n",
    "    def ID_2_elements(self, elt_2_ID_dict):\n",
    "        \"\"\"Grouping segments by IDs\"\"\"\n",
    "        ID_2_elts = {}\n",
    "        for elt,ID in elt_2_ID_dict.items():\n",
    "            if ID not in ID_2_elts:ID_2_elts[ID]= [elt]\n",
    "            else:ID_2_elts[ID].append(elt)  \n",
    "        return ID_2_elts\n",
    "    \n",
    "    def Image_2_call(self, df):\n",
    "        \"\"\"Grouping chirps per call\"\"\"\n",
    "        df = df[[\"Segment\",\"Call\"]]\n",
    "        return dict([(img,call) for img, call in df.to_records(index = False)])\n",
    "    \n",
    "    def trn_val_test_split(self):\n",
    "        \n",
    "        \"\"\"Arrange imgs per night and per ID, and for each ID and then rearrange imgs per call.\n",
    "        For each call, put 60% of the imgs in training, 20% in validation, and 20 in test set.\"\"\"\n",
    "        \n",
    "        trn, val, tst = [], [], []\n",
    "        #df = self.Csv_data()\n",
    "        \n",
    "        # select segs collected on the 1st night\n",
    "        df = self.df[self.df.Night == 1]\n",
    "        Img_2_cal = self.Image_2_call(df)\n",
    "        \n",
    "        # arrange images per ID\n",
    "        \n",
    "        Im2ID = self.Image_2_ID(df)\n",
    "        ID2Ims = self.ID_2_elements(Im2ID)\n",
    "         \n",
    "        # arrange images of each ID per call\n",
    "\n",
    "        for lstIms in list(ID2Ims.values()):\n",
    "            Im2call = {img: Img_2_cal[img] for img in lstIms}\n",
    "            call2Ims = self.ID_2_elements(Im2call)\n",
    "            lst_cal_Ims = list(call2Ims.values())\n",
    "\n",
    "            # put 60, 20, and 20% resp. in trn, val, and test set\n",
    "\n",
    "            for lst in lst_cal_Ims:\n",
    "                lst = sorted(lst)\n",
    "                idx = np.arange(len(lst))\n",
    "                # randomly shuffle 1_s_segments from each call\n",
    "                np.random.shuffle(idx)\n",
    "                lst = list(np.array(lst)[idx])\n",
    "                p_60 = int(len(lst)*6/10)\n",
    "                p_80 = int(len(lst)*8/10)\n",
    "                trn += lst[:p_60]\n",
    "                val += lst[p_60:p_80]\n",
    "                tst += lst[p_80:]\n",
    "\n",
    "        return trn, val, tst\n",
    "    \n",
    "    def save_train_val_test_segment_data(self):\n",
    "        train, val, test = self.trn_val_test_split()\n",
    "        df_trn = self.df[self.df.Segment.isin(train)]\n",
    "        df_val = self.df[self.df.Segment.isin(val)]\n",
    "        df_tst = self.df[self.df.Segment.isin(test)]\n",
    "        df_trn.to_csv(self.path_trn_val_tst_data+\"n1_train.csv\", index = False)\n",
    "        df_val.to_csv(self.path_trn_val_tst_data+\"n1_validation.csv\", index = False)\n",
    "        df_tst.to_csv(self.path_trn_val_tst_data+\"n1_test.csv\", index = False)\n",
    "        print()\n",
    "        print(\"saving train, validation, and test segment data has been completed\")\n",
    "        \n"
   ]
  },
  {
   "cell_type": "code",
   "execution_count": null,
   "id": "e1210218",
   "metadata": {},
   "outputs": [],
   "source": []
  },
  {
   "cell_type": "code",
   "execution_count": 5,
   "id": "cb0e45a3",
   "metadata": {},
   "outputs": [],
   "source": [
    "p_seg = \"../segment_index_extraction/segment_data.csv\"\n",
    "p_t_v_t = \"train_val_test_segment_data/\""
   ]
  },
  {
   "cell_type": "code",
   "execution_count": 6,
   "id": "33f126e7",
   "metadata": {},
   "outputs": [],
   "source": [
    "tvt = Train_validation_test_split(p_seg, p_t_v_t)"
   ]
  },
  {
   "cell_type": "code",
   "execution_count": 7,
   "id": "c1fb5762",
   "metadata": {},
   "outputs": [
    {
     "name": "stdout",
     "output_type": "stream",
     "text": [
      "\n",
      "saving train, validation, and test segment data has been completed\n"
     ]
    }
   ],
   "source": [
    "tvt.save_train_val_test_segment_data()"
   ]
  },
  {
   "cell_type": "code",
   "execution_count": 8,
   "id": "733efb3a",
   "metadata": {},
   "outputs": [],
   "source": [
    "df = tvt.df\n",
    "d2 = df[df.Night == 2]\n",
    "d3 = df[df.Night == 3]\n",
    "d2.to_csv(p_t_v_t + \"n2_test.csv\", index = False)\n",
    "d3.to_csv(p_t_v_t + \"n3_test.csv\", index = False)"
   ]
  },
  {
   "cell_type": "code",
   "execution_count": null,
   "id": "30ad0aa7",
   "metadata": {},
   "outputs": [],
   "source": []
  },
  {
   "cell_type": "code",
   "execution_count": null,
   "id": "fd7ac095",
   "metadata": {},
   "outputs": [],
   "source": []
  }
 ],
 "metadata": {
  "kernelspec": {
   "display_name": "Python 3 (ipykernel)",
   "language": "python",
   "name": "python3"
  },
  "language_info": {
   "codemirror_mode": {
    "name": "ipython",
    "version": 3
   },
   "file_extension": ".py",
   "mimetype": "text/x-python",
   "name": "python",
   "nbconvert_exporter": "python",
   "pygments_lexer": "ipython3",
   "version": "3.9.4"
  }
 },
 "nbformat": 4,
 "nbformat_minor": 5
}
