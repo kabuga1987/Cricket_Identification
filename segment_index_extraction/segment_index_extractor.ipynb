{
 "cells": [
  {
   "cell_type": "code",
   "execution_count": 1,
   "id": "5a8ee652-5e75-4c9a-8d13-22476bdd8d19",
   "metadata": {},
   "outputs": [],
   "source": [
    "import numpy as np\n",
    "import librosa\n",
    "import os\n",
    "import pandas as pd\n",
    "from tqdm import tqdm\n",
    "import matplotlib.pyplot as plt"
   ]
  },
  {
   "cell_type": "code",
   "execution_count": 2,
   "id": "0ff67333-ae1b-472f-9f9f-6e4643dcddf8",
   "metadata": {},
   "outputs": [],
   "source": [
    "class SegmentStartEndPointExtractor:\n",
    "    \n",
    "    def __init__(self, path_audio_files, path_save_segment_data , start = None, sr = None, window = None, slide = None):\n",
    "        self.path_audio_files = path_audio_files\n",
    "        self.path_save_segment_data = path_save_segment_data\n",
    "        self.start = start # secs from which the analysis is conducted\n",
    "        self.sr = sr        # sampling rate\n",
    "        self.window = window # time frame\n",
    "        self.slide = slide # time between two consecutive frames\n",
    "        \n",
    "\n",
    "    def Audio_reader(self, file_name):\n",
    "        signal = librosa.load(self.path_audio_files + file_name, sr = None, offset=None)[0]\n",
    "        return signal\n",
    "    \n",
    "    def Start_End_locations(self, audio_signal):\n",
    "        '''\n",
    "        skip the first few seconds(10 secs) = self.sr, and\n",
    "        extract start and end points of segments\n",
    "        '''\n",
    "\n",
    "        st_ed_locations = []\n",
    "        skip = 0\n",
    "        \n",
    "        while True:\n",
    "            startLocation = skip * self.sr + self.start * self.sr\n",
    "            endLocation = startLocation + self.window * self.sr\n",
    "            skip = skip + self.slide\n",
    "            \n",
    "            if endLocation >= len(audio_signal):\n",
    "                break\n",
    "        \n",
    "            st_ed_locations.append((int(startLocation),int(endLocation)))\n",
    "        \n",
    "        return zip(*st_ed_locations)\n",
    "    \n",
    "     \n",
    "    def ID_night_call(self,audiofile):\n",
    "        \n",
    "        \"\"\"INPUT: audio file named XXX_nN_P.WAV or XXX_P.WAV with XXX ID, nN Nth call in night P\n",
    "           DO   : Extract ID, night, call, and name the file as ID-night-call\n",
    "           OUTPUT: namedfile, ID, night, call\n",
    "        \"\"\"\n",
    "        audio = audiofile[:-4]\n",
    "        if len(audio) == 8:\n",
    "            ID = audio[:3]\n",
    "            night = audio[-1]\n",
    "            call = audio[-3]\n",
    "        elif len(audio) == 5:\n",
    "            ID = audio[:3]\n",
    "            night = audio[-1]\n",
    "            call = str(1)\n",
    "        else:\n",
    "            assert len(audio) == 8 or 3\n",
    "\n",
    "        audio_file = ID+night+call\n",
    "\n",
    "        return audio_file, ID, int(night), int(call)\n",
    "    \n",
    "    def Data_Frame(self):\n",
    "        return pd.DataFrame(columns = [\"Segment\",\"ID\",\"Start\",\"End\",\"Night\",\"Call\"]).set_index(\"Segment\")\n",
    "    \n",
    "    \n",
    "    def Execution(self):\n",
    "\n",
    "        all_dfs = []\n",
    "        \n",
    "        for audio_file in tqdm(os.listdir(self.path_audio_files)):\n",
    "            audio_signal = self.Audio_reader(audio_file)\n",
    "            sts, eds = self.Start_End_locations(audio_signal)\n",
    "            audio, ID, night, call = self.ID_night_call(audio_file)\n",
    "            \n",
    "            segment2characteristics = {}\n",
    "            \n",
    "            for idx in range(len(sts)):\n",
    "                st_idx, ed_idx = sts[idx], eds[idx]\n",
    "                segment = audio+'_'+str(idx)\n",
    "                segment2characteristics[segment] = (ID, st_idx, ed_idx, night, call)\n",
    "                \n",
    "            dataframe = self.Data_Frame()\n",
    "            \n",
    "            for segment,characteristics in segment2characteristics.items():\n",
    "                dataframe.loc[segment] = segment2characteristics[segment]\n",
    "            dataframe[\"Audio\"] = [audio_file]*dataframe.shape[0]\n",
    "            all_dfs.append(dataframe)\n",
    "                \n",
    "        df = pd.concat(all_dfs)\n",
    "        # save the extracted segment indexes as a .csv file\n",
    "        df.to_csv(self.path_save_segment_data, index = True)\n",
    "\n",
    "        return df\n",
    "            \n",
    "                \n",
    "        "
   ]
  },
  {
   "cell_type": "code",
   "execution_count": 3,
   "id": "bf6c9597-846c-4a99-b621-cdbf95d6dd49",
   "metadata": {},
   "outputs": [
    {
     "name": "stderr",
     "output_type": "stream",
     "text": [
      "100%|█████████████████████████████████████████████| 7/7 [00:01<00:00,  4.71it/s]\n"
     ]
    }
   ],
   "source": [
    "pathAudioFiles = \"audio_files/\"\n",
    "pathSegData = \"segment_data.csv\"\n",
    "start = 10 # starting analysis 10 sec after the initiation of the call\n",
    "sr = 44100 # sample rate\n",
    "window = 1 # frame, window, or segment size (1s)\n",
    "slide = 0.2 # time difference btwn two consecutive segments (0.2s)\n",
    "sE = SegmentStartEndPointExtractor(pathAudioFiles,pathSegData,start=start,sr=sr, window=window,slide=slide)\n",
    "df = sE.Execution()"
   ]
  },
  {
   "cell_type": "code",
   "execution_count": 4,
   "id": "b95eeaa3-44be-47dd-9f2d-82762305d3d1",
   "metadata": {},
   "outputs": [
    {
     "data": {
      "text/html": [
       "<div>\n",
       "<style scoped>\n",
       "    .dataframe tbody tr th:only-of-type {\n",
       "        vertical-align: middle;\n",
       "    }\n",
       "\n",
       "    .dataframe tbody tr th {\n",
       "        vertical-align: top;\n",
       "    }\n",
       "\n",
       "    .dataframe thead th {\n",
       "        text-align: right;\n",
       "    }\n",
       "</style>\n",
       "<table border=\"1\" class=\"dataframe\">\n",
       "  <thead>\n",
       "    <tr style=\"text-align: right;\">\n",
       "      <th></th>\n",
       "      <th>ID</th>\n",
       "      <th>Start</th>\n",
       "      <th>End</th>\n",
       "      <th>Night</th>\n",
       "      <th>Call</th>\n",
       "      <th>Audio</th>\n",
       "    </tr>\n",
       "    <tr>\n",
       "      <th>Segment</th>\n",
       "      <th></th>\n",
       "      <th></th>\n",
       "      <th></th>\n",
       "      <th></th>\n",
       "      <th></th>\n",
       "      <th></th>\n",
       "    </tr>\n",
       "  </thead>\n",
       "  <tbody>\n",
       "    <tr>\n",
       "      <th>LPL11_0</th>\n",
       "      <td>LPL</td>\n",
       "      <td>441000</td>\n",
       "      <td>485100</td>\n",
       "      <td>1</td>\n",
       "      <td>1</td>\n",
       "      <td>LPL_1.WAV</td>\n",
       "    </tr>\n",
       "    <tr>\n",
       "      <th>LPL11_1</th>\n",
       "      <td>LPL</td>\n",
       "      <td>449820</td>\n",
       "      <td>493920</td>\n",
       "      <td>1</td>\n",
       "      <td>1</td>\n",
       "      <td>LPL_1.WAV</td>\n",
       "    </tr>\n",
       "    <tr>\n",
       "      <th>LPL11_2</th>\n",
       "      <td>LPL</td>\n",
       "      <td>458640</td>\n",
       "      <td>502740</td>\n",
       "      <td>1</td>\n",
       "      <td>1</td>\n",
       "      <td>LPL_1.WAV</td>\n",
       "    </tr>\n",
       "    <tr>\n",
       "      <th>LPL11_3</th>\n",
       "      <td>LPL</td>\n",
       "      <td>467460</td>\n",
       "      <td>511560</td>\n",
       "      <td>1</td>\n",
       "      <td>1</td>\n",
       "      <td>LPL_1.WAV</td>\n",
       "    </tr>\n",
       "    <tr>\n",
       "      <th>LPL11_4</th>\n",
       "      <td>LPL</td>\n",
       "      <td>476280</td>\n",
       "      <td>520380</td>\n",
       "      <td>1</td>\n",
       "      <td>1</td>\n",
       "      <td>LPL_1.WAV</td>\n",
       "    </tr>\n",
       "    <tr>\n",
       "      <th>...</th>\n",
       "      <td>...</td>\n",
       "      <td>...</td>\n",
       "      <td>...</td>\n",
       "      <td>...</td>\n",
       "      <td>...</td>\n",
       "      <td>...</td>\n",
       "    </tr>\n",
       "    <tr>\n",
       "      <th>RBB13_355</th>\n",
       "      <td>RBB</td>\n",
       "      <td>3572100</td>\n",
       "      <td>3616200</td>\n",
       "      <td>1</td>\n",
       "      <td>3</td>\n",
       "      <td>RBB_n3_1.WAV</td>\n",
       "    </tr>\n",
       "    <tr>\n",
       "      <th>RBB13_356</th>\n",
       "      <td>RBB</td>\n",
       "      <td>3580920</td>\n",
       "      <td>3625020</td>\n",
       "      <td>1</td>\n",
       "      <td>3</td>\n",
       "      <td>RBB_n3_1.WAV</td>\n",
       "    </tr>\n",
       "    <tr>\n",
       "      <th>RBB13_357</th>\n",
       "      <td>RBB</td>\n",
       "      <td>3589740</td>\n",
       "      <td>3633840</td>\n",
       "      <td>1</td>\n",
       "      <td>3</td>\n",
       "      <td>RBB_n3_1.WAV</td>\n",
       "    </tr>\n",
       "    <tr>\n",
       "      <th>RBB13_358</th>\n",
       "      <td>RBB</td>\n",
       "      <td>3598560</td>\n",
       "      <td>3642660</td>\n",
       "      <td>1</td>\n",
       "      <td>3</td>\n",
       "      <td>RBB_n3_1.WAV</td>\n",
       "    </tr>\n",
       "    <tr>\n",
       "      <th>RBB13_359</th>\n",
       "      <td>RBB</td>\n",
       "      <td>3607380</td>\n",
       "      <td>3651480</td>\n",
       "      <td>1</td>\n",
       "      <td>3</td>\n",
       "      <td>RBB_n3_1.WAV</td>\n",
       "    </tr>\n",
       "  </tbody>\n",
       "</table>\n",
       "<p>2695 rows × 6 columns</p>\n",
       "</div>"
      ],
      "text/plain": [
       "            ID    Start      End  Night  Call         Audio\n",
       "Segment                                                    \n",
       "LPL11_0    LPL   441000   485100      1     1     LPL_1.WAV\n",
       "LPL11_1    LPL   449820   493920      1     1     LPL_1.WAV\n",
       "LPL11_2    LPL   458640   502740      1     1     LPL_1.WAV\n",
       "LPL11_3    LPL   467460   511560      1     1     LPL_1.WAV\n",
       "LPL11_4    LPL   476280   520380      1     1     LPL_1.WAV\n",
       "...        ...      ...      ...    ...   ...           ...\n",
       "RBB13_355  RBB  3572100  3616200      1     3  RBB_n3_1.WAV\n",
       "RBB13_356  RBB  3580920  3625020      1     3  RBB_n3_1.WAV\n",
       "RBB13_357  RBB  3589740  3633840      1     3  RBB_n3_1.WAV\n",
       "RBB13_358  RBB  3598560  3642660      1     3  RBB_n3_1.WAV\n",
       "RBB13_359  RBB  3607380  3651480      1     3  RBB_n3_1.WAV\n",
       "\n",
       "[2695 rows x 6 columns]"
      ]
     },
     "execution_count": 4,
     "metadata": {},
     "output_type": "execute_result"
    }
   ],
   "source": [
    "df"
   ]
  },
  {
   "cell_type": "code",
   "execution_count": 5,
   "id": "fa14dac0-c0b9-4fa2-af57-81c4f60098b5",
   "metadata": {},
   "outputs": [],
   "source": [
    "# check how the extracted segments look like\n",
    "signal1 = librosa.load(pathAudioFiles + \"BKB_n2_1.WAV\", sr = None, offset=None)[0]\n",
    "signal2 = librosa.load(pathAudioFiles + \"RBB_n3_1.WAV\", sr = None, offset=None)[0]"
   ]
  },
  {
   "cell_type": "code",
   "execution_count": 6,
   "id": "d71d73c3-3bb0-4f3f-b321-cd17695c0b36",
   "metadata": {},
   "outputs": [
    {
     "data": {
      "text/plain": [
       "[<matplotlib.lines.Line2D at 0x7c1265de40a0>]"
      ]
     },
     "execution_count": 6,
     "metadata": {},
     "output_type": "execute_result"
    },
    {
     "data": {
      "image/png": "[encoded data removed]",
      "text/plain": [
       "<Figure size 640x480 with 1 Axes>"
      ]
     },
     "metadata": {},
     "output_type": "display_data"
    }
   ],
   "source": [
    "# First segment of signal1\n",
    "plt.plot(signal1[441000:485100])"
   ]
  },
  {
   "cell_type": "code",
   "execution_count": 7,
   "id": "273d5684-cdd2-42f3-9455-c4bf1c3b116f",
   "metadata": {},
   "outputs": [
    {
     "data": {
      "text/plain": [
       "[<matplotlib.lines.Line2D at 0x7c12653959c0>]"
      ]
     },
     "execution_count": 7,
     "metadata": {},
     "output_type": "execute_result"
    },
    {
     "data": {
      "image/png": "[encoded data removed]",
      "text/plain": [
       "<Figure size 640x480 with 1 Axes>"
      ]
     },
     "metadata": {},
     "output_type": "display_data"
    }
   ],
   "source": [
    "# Last segment of signal2\n",
    "plt.plot(signal2[3607380:3651480])"
   ]
  },
  {
   "cell_type": "code",
   "execution_count": null,
   "id": "71ae2ec2-7935-4ec4-8aba-7e2651ded016",
   "metadata": {},
   "outputs": [],
   "source": []
  },
  {
   "cell_type": "code",
   "execution_count": null,
   "id": "e48f5a02-60f0-4911-a175-3c554e6e4c9b",
   "metadata": {},
   "outputs": [],
   "source": []
  }
 ],
 "metadata": {
  "kernelspec": {
   "display_name": "phdenv",
   "language": "python",
   "name": "phdenv"
  },
  "language_info": {
   "codemirror_mode": {
    "name": "ipython",
    "version": 3
   },
   "file_extension": ".py",
   "mimetype": "text/x-python",
   "name": "python",
   "nbconvert_exporter": "python",
   "pygments_lexer": "ipython3",
   "version": "3.10.12"
  }
 },
 "nbformat": 4,
 "nbformat_minor": 5
}
